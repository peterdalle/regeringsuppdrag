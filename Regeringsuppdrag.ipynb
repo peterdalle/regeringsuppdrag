{
 "cells": [
  {
   "cell_type": "markdown",
   "metadata": {},
   "source": [
    "# Ladda ned PDF regeringsuppdrag\n",
    "\n",
    "Sidan https://www.regeringen.se/regeringsuppdrag/ anropar en [JSON-fil](https://www.regeringen.se/Filter/GetFilteredItems?filterType=Taxonomy&filterByType=FilterablePageBase&preFilteredCategories=1342&rootPageReference=0&page=1&pageSize=500&displayLimited=false&sortAlphabetically=False) dynamiskt vid vaje anrop. Genom att manipulera `pageSize` i URL:en kan man plocka ut 500 länkar åt gången och sedan skrapa länkens HTML (JSON-filen innehåller HTML som värde) och därifrån hämta länken till PDF-filen som man sedan laddar ned.\n",
    "\n",
    "Not: Med tanke på att JSON-filen verkar vara generell för allt möjligt innehåll kan man nog ladda ned fler PDF-filer än bara regeringsuppdrag (se exempelvis `preFilteredCategories=1342` i URL:en). Har dock inte testat."
   ]
  },
  {
   "cell_type": "code",
   "execution_count": 1,
   "metadata": {},
   "outputs": [],
   "source": [
    "from urllib import request\n",
    "from lxml import html\n",
    "from bs4 import BeautifulSoup\n",
    "import ssl\n",
    "\n",
    "# skrapar html\n",
    "def scrapewebpage(url):\n",
    "    UseSSL = True  # Om du får SSLError, ändra detta till False.\n",
    "    if UseSSL:\n",
    "        web = request.urlopen(url)\n",
    "    else:\n",
    "        web = request.urlopen(url, context=ssl._create_unverified_context())\n",
    "    if web.getcode() == 200:\n",
    "        return(web.read())\n",
    "    else:\n",
    "        print(\"Error %s reading %s\" % str(web.getcode()), url)"
   ]
  },
  {
   "cell_type": "markdown",
   "metadata": {},
   "source": [
    "# Utforska\n",
    "\n",
    "Se vad JSON-filen innehåller för något smått och gott."
   ]
  },
  {
   "cell_type": "code",
   "execution_count": 2,
   "metadata": {},
   "outputs": [],
   "source": [
    "# skrapa json-fil\n",
    "data = scrapewebpage(\"https://www.regeringen.se/Filter/GetFilteredItems?filterType=Taxonomy&filterByType=FilterablePageBase&preFilteredCategories=1342&rootPageReference=0&page=1&pageSize=500&displayLimited=false&sortAlphabetically=False\")"
   ]
  },
  {
   "cell_type": "code",
   "execution_count": 3,
   "metadata": {
    "scrolled": true
   },
   "outputs": [
    {
     "name": "stdout",
     "output_type": "stream",
     "text": [
      "Message\n",
      "TotalCount\n"
     ]
    }
   ],
   "source": [
    "# läs in json\n",
    "import json\n",
    "j = json.loads(data)\n",
    "\n",
    "# nycklar i json-datan\n",
    "for key in j.keys():\n",
    "    print(key)"
   ]
  },
  {
   "cell_type": "code",
   "execution_count": 4,
   "metadata": {},
   "outputs": [
    {
     "data": {
      "text/plain": [
       "2193"
      ]
     },
     "execution_count": 4,
     "metadata": {},
     "output_type": "execute_result"
    }
   ],
   "source": [
    "# regeringsuppdrag totalt\n",
    "j[\"TotalCount\"]"
   ]
  },
  {
   "cell_type": "code",
   "execution_count": 5,
   "metadata": {
    "scrolled": false
   },
   "outputs": [
    {
     "data": {
      "text/plain": [
       "500"
      ]
     },
     "execution_count": 5,
     "metadata": {},
     "output_type": "execute_result"
    }
   ],
   "source": [
    "# plocka ut alla länkar på sidan från j[\"Message\"] som innehåller html\n",
    "soup = BeautifulSoup(j[\"Message\"], \"lxml-xml\")\n",
    "links = soup.find_all(\"a\", \"readmore\")\n",
    "len(links)"
   ]
  },
  {
   "cell_type": "code",
   "execution_count": 11,
   "metadata": {},
   "outputs": [
    {
     "data": {
      "text/plain": [
       "'/regeringsuppdrag/2018/06/uppdrag-att-samordna-det-nationella-klimatanpassningsarbetet-for-den-byggda-miljon/'"
      ]
     },
     "execution_count": 11,
     "metadata": {},
     "output_type": "execute_result"
    }
   ],
   "source": [
    "# kolla hur url:erna till regeringsuppdragen ser ut\n",
    "url = links[0].get(\"href\")\n",
    "url"
   ]
  },
  {
   "cell_type": "code",
   "execution_count": 9,
   "metadata": {},
   "outputs": [],
   "source": [
    "# hämta egeringsuppdragssidornas html\n",
    "html = scrapewebpage(\"https://regeringen.se\" + url)"
   ]
  },
  {
   "cell_type": "code",
   "execution_count": 22,
   "metadata": {},
   "outputs": [
    {
     "data": {
      "text/plain": [
       "b''"
      ]
     },
     "execution_count": 22,
     "metadata": {},
     "output_type": "execute_result"
    }
   ],
   "source": [
    "# kolla var \".pdf\" förekommer\n",
    "pos = str(html).lower().find(\".pdf\")\n",
    "html[pos-1000:pos+1000]"
   ]
  },
  {
   "cell_type": "markdown",
   "metadata": {},
   "source": [
    "# Försök parsa PDF-fil och metadata från HMTL\n",
    "\n",
    "Nu när vi vet ungefär vad JSON-filen innehåller och hur HTML-sidorna är strukturerade, skapa funktioner för att hantera pdf-filernas namn, hämta ut metadata m.m."
   ]
  },
  {
   "cell_type": "code",
   "execution_count": 54,
   "metadata": {},
   "outputs": [],
   "source": [
    "# skapa några helper-funktioner\n",
    "import urllib.request\n",
    "from urllib.parse import urlparse\n",
    "import os\n",
    "\n",
    "# ta ut pdf-filnamnet (antar att första träffen på \".pdf\" är rätt)\n",
    "def get_pdf(pdf_soup):\n",
    "    for a in pdf_soup.find_all(\"a\"):\n",
    "        if a != None:\n",
    "            url = a.get(\"href\")\n",
    "            if url.lower().find(\".pdf\") > 0:\n",
    "                return(\"https://regeringen.se\" + url)\n",
    "    # okej, hittade inget .pdf - gör då några desperata gissningar var pdf-filen finns\n",
    "    url = [div.find(\"a\") for div in pdf_soup.findAll(\"\", \"col-1\")]\n",
    "    if url != None:\n",
    "        try:\n",
    "            return(\"https://regeringen.se\" + url[0].get(\"href\"))\n",
    "        except:\n",
    "            pass\n",
    "    # hittade verkligen inget, ge upp och gråt\n",
    "    return(\"\")\n",
    "\n",
    "# ta ut pdf-filnamnet från url (släng på \".pdf\" på slutet om det saknas)\n",
    "def get_filename(url):\n",
    "    if url.find(\"/\") > 0:\n",
    "        filename = url.rsplit(\"/\", 1)[1]\n",
    "        if not filename.lower().endswith(\".pdf\"):\n",
    "            filename = filename + \".pdf\"\n",
    "        return(filename)\n",
    "\n",
    "# ladda ned pdf\n",
    "def download_pdf(url):\n",
    "    urllib.request.urlretrieve(url, get_filename(url))\n",
    "\n",
    "    \n",
    "# ta ut lista över kategorier från metadatan\n",
    "def get_metadata_categories(pdf_soup):\n",
    "    l = list()\n",
    "    ul = pdf_soup.find(\"\", \"block--politikomrLinks\")\n",
    "    for li in ul.find_all(\"li\"):\n",
    "        for a in li.find_all(\"a\"):\n",
    "            l.append(a.get_text())\n",
    "    return(l)\n",
    "    \n",
    "# ta ut övrig metadata från regeringsuppdragets sida (titel, diarienummer, beskrivning, datum etc)\n",
    "def get_metadata(url, pdf_soup):\n",
    "    title = \"\"\n",
    "    dnr = \"\"\n",
    "    ingress = \"\"\n",
    "    beskrivning = \"\"\n",
    "    pub = \"\"\n",
    "    h1 = pdf_soup.find(\"h1\").get_text().strip()\n",
    "    try:\n",
    "        title = h1.split(\"\\n\")[0].strip()\n",
    "        dnr = h1.split(\"\\n\")[1].strip()\n",
    "        if len(dnr) > 0:\n",
    "            dnr = dnr.replace(\"Diarienummer:\", \"\").strip()\n",
    "    except:\n",
    "        title = h1\n",
    "    try:\n",
    "        ingress = pdf_soup.find(\"\", \"ingress has-wordExplanation\").get_text().strip()\n",
    "    except:\n",
    "        pass\n",
    "    try:\n",
    "        explanation = pdf_soup.find(\"\", \"has-wordExplanation\").get_text().strip()\n",
    "    except:\n",
    "        pass\n",
    "    try:\n",
    "        pub = pdf_soup.find(\"time\").get(\"datetime\")\n",
    "    except:\n",
    "        pass\n",
    "    return({\"titel\": title, \"dnr\": dnr, \"ingress\": ingress, \"beskrivning\": explanation,  \"pub\": pub, \n",
    "            \"pdf\": get_filename(get_pdf(pdf_soup)), \"url\": url, \"kategorier\": get_metadata_categories(pdf_soup)})"
   ]
  },
  {
   "cell_type": "code",
   "execution_count": 55,
   "metadata": {
    "scrolled": true
   },
   "outputs": [
    {
     "data": {
      "text/plain": [
       "{'titel': 'Uppdrag om säker och effektiv tillgång till grunddata',\n",
       " 'dnr': '',\n",
       " 'ingress': '',\n",
       " 'beskrivning': 'Regeringen gerBolagsverket, Lantmäteriet och Skatteverket i uppdrag att tillsammans lämna förslag som syftar till att skapa en säker och effektiv till\\xadgång till grunddata, genom att bl.a. tydliggöra ansvaret för och öka standardi\\xadseringen av sådan data.\\nUppdraget ska slutredovisas till regeringen senast den 30 april 2019.',\n",
       " 'pub': '07 juni 2018',\n",
       " 'pdf': 'uppdrag-om-saker-och-effektiv-tillgang-till-grunddata.pdf',\n",
       " 'url': 'https://regeringen.se/regeringsuppdrag/2018/06/uppdrag-om-saker-och-effektiv-tillgang-till-grunddata/',\n",
       " 'kategorier': ['Digitaliseringspolitik',\n",
       "  'Finansdepartementet',\n",
       "  'Regeringen',\n",
       "  'Regeringsuppdrag',\n",
       "  'Statlig förvaltning']}"
      ]
     },
     "execution_count": 55,
     "metadata": {},
     "output_type": "execute_result"
    }
   ],
   "source": [
    "# kolla att det verkar funka på ett regeringsuppdrag\n",
    "url = \"https://regeringen.se/regeringsuppdrag/2018/06/uppdrag-om-saker-och-effektiv-tillgang-till-grunddata/\"\n",
    "html = scrapewebpage(url)\n",
    "pdf_soup = BeautifulSoup(html, \"lxml-xml\")\n",
    "get_metadata(url, pdf_soup)"
   ]
  },
  {
   "cell_type": "code",
   "execution_count": 56,
   "metadata": {},
   "outputs": [
    {
     "data": {
      "text/plain": [
       "{'titel': 'Uppdrag till Arbetsförmedlingen om en modell för upphandlad matchning till etableringsjobb',\n",
       " 'dnr': 'A2018/01212/A',\n",
       " 'ingress': 'Regeringen uppdrar åt Arbetsförmedlingen att analysera förutsättningarna för och utreda den närmare utformningen av en modell för upphandlad matchning till etableringsjobb. Uppdraget ska genomföras i samråd med LO, Unionen och Svenskt Näringsliv.',\n",
       " 'beskrivning': 'Arbetsförmedlingen ska analysera hur tjänsten Stöd och matchning kan utvecklas och hur tjänsten kan användas tillsammans med andra insatser för att skapa en effektiv matchning till etableringsjobb. Arbetsförmedlingen ska utifrån detta perspektiv analysera dimensioneringen av tjänsten.\\nUtifrån analysen ska Arbetsförmedlingen redovisa hur utformningen av en upphandlad modell för matchning till etableringsjobb skulle kunna se ut. Om det bedöms finnas behov av författningsändringar för att kunna utforma en effektiv modell för upphandlad matchning till etableringsjobb ska sådant förslag redovisas.\\nUppdraget ska redovisas till regeringen (Arbetsmarknadsdepartementet) senast den 30 november 2018. Arbetsförmedlingen ska fortlöpande hålla Arbetsmarknadsdepartementet informerat om uppdragets genomförande.',\n",
       " 'pub': '04 juni 2018',\n",
       " 'pdf': 'uppdrag-till-arbetsformedlingen-om-en-modell-for-upphandlad-matchning-till-etableringsjobb.pdf',\n",
       " 'url': 'https://regeringen.se/regeringsuppdrag/2018/06/uppdrag-till-arbetsformedlingen-om-en-modell-for-upphandlad-matchning-till-etableringsjobb/',\n",
       " 'kategorier': ['Arbetsmarknad',\n",
       "  'Arbetsmarknadsdepartementet',\n",
       "  'Nyanländas etablering',\n",
       "  'Regeringskansliet',\n",
       "  'Regeringsuppdrag']}"
      ]
     },
     "execution_count": 56,
     "metadata": {},
     "output_type": "execute_result"
    }
   ],
   "source": [
    "# vissa regeringsuppdrag har inget .pdf i slutet av filnamnet, som den här,\n",
    "# kolla att den kan parsa ut pdf-filen ändå\n",
    "url = \"https://regeringen.se/regeringsuppdrag/2018/06/uppdrag-till-arbetsformedlingen-om-en-modell-for-upphandlad-matchning-till-etableringsjobb/\"\n",
    "html = scrapewebpage(url)\n",
    "pdf_soup = BeautifulSoup(html, \"lxml-xml\")\n",
    "get_metadata(url, pdf_soup)"
   ]
  },
  {
   "cell_type": "code",
   "execution_count": 53,
   "metadata": {},
   "outputs": [
    {
     "data": {
      "text/plain": [
       "{'titel': 'Uppdrag att, inom ramen för livsmedelsstrategin, vidta åtgärder för främjande av produktion, konsumtion och export av ekologiska livsmedel',\n",
       " 'dnr': 'Diarienummer: N2018/02711/JM',\n",
       " 'ingress': 'Regeringen uppdrar åt Statens jordbruksverk att efter samråd med berörda myndigheter, företrädare för företag och organisationer inom hela livsmedelskedjan samt konsument- och miljöorganisationer, vidta lämpliga åtgärder som ska syfta till att nå regeringens uppsatta inriktningsmål för ekologisk produktion och konsumtion, som innebär att 30 procent av den svenska jordbruksmarken ska utgöras av certifierad ekologisk jordbruksmark år 2030 och att 60 procent av den offentliga livsmedelskonsumtionen ska utgöras av certifierade ekologiska produkter år2030.',\n",
       " 'beskrivning': 'En årlig ekonomisk redovisning av uppdraget ska lämnassenast den 28 februari till Regeringskansliet (Näringsdepartementet).',\n",
       " 'pub': '29 maj 2018',\n",
       " 'pdf': None,\n",
       " 'url': 'https://regeringen.se/regeringsuppdrag/2018/05/uppdrag-att-inom-ramen-for-livsmedelsstrategin-vidta-atgarder-for-framjande-av-produktion-konsumtion-och-export-av-ekologiska-livsmedel/',\n",
       " 'kategorier': ['Landsbygd, livsmedel och areella näringar',\n",
       "  'Livsmedelsstrategin',\n",
       "  'Näringsdepartementet',\n",
       "  'Regeringen',\n",
       "  'Regeringsuppdrag',\n",
       "  'Sven-Erik Bucht']}"
      ]
     },
     "execution_count": 53,
     "metadata": {},
     "output_type": "execute_result"
    }
   ],
   "source": [
    "# denna har inte ens en pdf kopplad till sig\n",
    "url = \"https://regeringen.se/regeringsuppdrag/2018/05/uppdrag-att-inom-ramen-for-livsmedelsstrategin-vidta-atgarder-for-framjande-av-produktion-konsumtion-och-export-av-ekologiska-livsmedel/\"\n",
    "html = scrapewebpage(url)\n",
    "pdf_soup = BeautifulSoup(html, \"lxml-xml\")\n",
    "get_metadata(url, pdf_soup)"
   ]
  },
  {
   "cell_type": "markdown",
   "metadata": {},
   "source": [
    "# Skapa sqlite3 databas\n",
    "\n",
    "Någonstans måste vi ju spara allt."
   ]
  },
  {
   "cell_type": "code",
   "execution_count": 60,
   "metadata": {},
   "outputs": [],
   "source": [
    "import sqlite3 as lite\n",
    "con = lite.connect(\"regeringsuppdrag.db\")\n",
    "cur = con.cursor()    \n",
    "\n",
    "# skapa databas om den inte redan finns\n",
    "cur.execute(\"SELECT name FROM sqlite_master WHERE type='table'\")\n",
    "counter = cur.fetchall()\n",
    "if len(counter) < 2:\n",
    "    cur.execute(\"CREATE TABLE regeringsuppdrag (id INTEGER PRIMARY KEY AUTOINCREMENT, titel TEXT, dnr TEXT, ingress TEXT, beskrivning TEXT, pub TEXT, pdf TEXT, url TEXT, kategorier TEXT)\")\n",
    "\n",
    "# gör om json-kategorier till komma-separerad lista\n",
    "def convert_to_string(l):\n",
    "    return(\", \".join(str(x) for x in l))\n",
    "\n",
    "# dumpa json till sqlite\n",
    "def write_metadata(j):\n",
    "    with con:\n",
    "        cur = con.cursor()\n",
    "        cur.execute(\"INSERT INTO regeringsuppdrag (titel, dnr, ingress, beskrivning, pub, pdf, url, kategorier) VALUES (?, ?, ?, ?, ?, ?, ?, ?)\",\n",
    "                    (j[\"titel\"], j[\"dnr\"], j[\"ingress\"], j[\"beskrivning\"], j[\"pub\"], j[\"pdf\"], j[\"url\"], convert_to_string(j[\"kategorier\"])))"
   ]
  },
  {
   "cell_type": "markdown",
   "metadata": {},
   "source": [
    "# Skrapa allt\n",
    "\n",
    "Nu verkar allt fungera att hämta.\n",
    "\n",
    "Detta är huvudfunktion för att skrapa alla pdf:er. Notera att det är någon sekunds fördröjning:"
   ]
  },
  {
   "cell_type": "code",
   "execution_count": 61,
   "metadata": {
    "scrolled": false
   },
   "outputs": [
    {
     "name": "stdout",
     "output_type": "stream",
     "text": [
      "Start 19:10:42.065370\n",
      "Sida 1\n",
      "Laddar ned pdf 1 2 3 4 5 6 7 8 9 10 11 12 13 14 15 \n",
      "hittade ingen pdf: https://regeringen.se/regeringsuppdrag/2018/05/uppdrag-att-inom-ramen-for-livsmedelsstrategin-vidta-atgarder-for-framjande-av-produktion-konsumtion-och-export-av-ekologiska-livsmedel/\n",
      "17 18 19 20 21 22 23 24 25 26 27 28 29 30 31 32 33 34 35 36 37 38 39 40 41 42 43 44 45 46 47 48 49 50 51 52 53 54 55 56 57 58 59 60 61 62 63 64 65 66 67 68 69 70 71 72 73 74 75 76 77 78 79 80 81 82 83 84 85 86 87 88 89 90 91 92 93 94 95 96 97 98 99 100 101 102 103 104 105 106 107 108 109 110 111 112 113 114 115 116 117 118 119 120 121 122 123 124 125 126 127 128 129 130 131 132 133 134 135 136 137 138 139 140 141 142 143 144 145 146 147 148 149 150 151 152 153 154 155 156 157 158 159 160 161 162 163 164 165 166 167 168 169 170 171 172 173 174 175 176 177 178 179 180 181 182 183 184 185 186 187 188 189 190 191 192 193 194 195 196 197 198 199 200 201 202 203 204 205 206 207 208 209 210 211 212 213 214 215 216 217 218 219 220 221 222 223 224 225 226 227 228 229 230 231 232 233 234 235 236 237 238 239 240 241 242 243 244 245 246 247 248 249 250 251 252 253 254 255 256 257 258 259 260 261 262 263 264 265 266 267 268 269 270 271 272 273 274 275 276 277 278 279 280 281 282 283 284 285 286 287 288 289 290 291 292 293 294 295 296 297 298 299 300 301 302 303 304 305 306 307 308 309 310 311 312 313 314 315 316 317 318 319 320 321 322 323 324 325 326 327 328 329 330 331 332 333 334 335 336 337 338 339 340 341 342 343 344 345 346 347 348 349 350 351 352 353 354 355 356 357 358 359 360 361 362 363 364 365 366 367 368 369 370 371 372 373 374 375 376 377 378 379 380 381 382 383 384 385 386 387 388 389 390 391 392 393 394 395 396 397 398 399 400 401 402 403 \n",
      "Fel: https://regeringen.se/regeringsuppdrag/2017/02/uppdrag-at-kammarkollegiet-att-utbetala-medel-till-landstingen-i-enlighet-med-overenskommelsen-okad-tillganglighet-och-jamlikhet-i-forlossningsvarden-och-forstarkta-insatser-for-kvinnors-halsa/ <class 'urllib.error.HTTPError'>\n",
      "405 406 407 408 409 410 411 412 413 414 415 416 417 418 419 420 421 422 423 424 425 426 427 428 429 430 431 432 433 434 435 436 437 438 439 440 441 \n",
      "Fel: https://regeringen.se/regeringsuppdrag/2016/12/uppdrag-att-ta-fram-en-kunskapssammanstallning-om-orsakerna-bakom-minskad-cykling-bland-barn-och-unga/ <class 'urllib.error.URLError'>\n",
      "442 443 444 445 446 447 448 449 450 451 452 453 454 455 456 457 458 459 460 461 462 463 464 465 466 467 468 469 470 471 472 473 474 475 476 477 478 479 480 481 482 483 484 485 486 487 488 489 490 491 492 493 494 495 496 497 498 499 500 Sida 2\n",
      "Laddar ned pdf 501 502 503 504 505 506 507 508 509 510 511 512 513 514 515 516 517 518 519 520 521 522 523 524 525 526 527 528 529 530 531 532 533 534 535 536 537 538 539 540 541 542 543 544 545 546 547 548 549 550 551 552 553 554 555 556 557 558 559 \n",
      "Fel: https://regeringen.se/regeringsuppdrag/2016/06/uppdrag-till-brottsforebyggande-radet-att-sammanstalla-kunskap-om-polisiara-metoder-och-arbetssatt-for-att-forebygga-upprepat-vald-mot-vuxna-och-barn-i-nara-relationer/ <class 'FileNotFoundError'>\n",
      "560 561 562 563 564 565 566 567 568 569 570 571 572 573 574 575 576 577 578 579 580 581 582 583 584 585 586 587 588 589 590 591 592 593 594 595 596 597 598 599 600 601 602 603 604 605 606 607 608 609 610 611 612 613 614 615 616 617 618 619 620 621 622 623 624 625 626 627 628 629 630 631 632 633 634 635 636 637 638 639 640 641 642 643 644 645 646 647 648 649 650 651 652 653 654 655 656 657 \n",
      "hittade ingen pdf: https://regeringen.se/regeringsuppdrag/2016/02/uppdrag-att-kartlagga-insatsen-hem-for-vard-eller-boende-hvb-och-verksamheter-med-konsulentstod-till-familjehem/\n",
      "659 660 661 662 663 664 665 666 667 668 669 670 671 672 673 674 675 676 677 678 679 680 681 682 683 684 685 686 687 688 689 690 691 692 693 694 695 696 697 698 699 700 701 702 703 704 705 706 707 708 709 710 711 712 713 714 715 716 717 718 719 720 721 722 723 724 725 726 727 728 729 730 731 732 733 734 735 736 737 738 739 740 741 742 743 744 745 746 747 748 749 750 751 752 753 754 755 756 757 758 759 760 761 762 763 764 765 766 767 768 769 770 771 772 \n",
      "hittade ingen pdf: https://regeringen.se/regeringsuppdrag/2015/10/uppdrag-angaende-assisterad-befruktning/\n",
      "774 775 776 777 778 779 780 781 782 783 784 785 786 787 788 789 790 791 792 793 794 795 796 797 798 799 800 801 802 803 804 805 806 807 808 809 810 811 812 813 814 815 816 817 818 819 820 821 822 823 824 825 826 827 828 829 830 831 832 833 834 835 836 837 838 839 840 841 842 843 844 845 846 847 848 849 850 851 852 853 854 855 856 857 858 859 860 861 862 863 864 865 866 867 868 869 870 871 872 873 874 875 876 877 878 879 880 881 882 883 884 885 886 887 888 889 890 891 892 893 894 895 896 897 898 899 900 901 902 903 904 905 906 907 908 909 910 911 912 913 914 915 916 917 918 919 920 921 922 923 924 925 926 927 928 929 930 931 932 933 934 935 936 937 938 939 940 941 942 943 944 945 946 947 948 949 950 951 952 953 954 \n",
      "Fel: https://regeringen.se/regeringsuppdrag/2010/12/u20107503sv/ <class 'FileNotFoundError'>\n",
      "955 956 957 958 959 960 961 962 963 964 965 966 967 968 969 970 971 972 973 974 975 976 977 978 979 980 981 982 983 984 985 986 987 988 989 990 991 992 993 994 995 996 997 998 999 1000 Sida 3\n",
      "Laddar ned pdf 1001 1002 1003 1004 1005 1006 1007 1008 1009 1010 1011 1012 1013 1014 1015 1016 1017 1018 1019 1020 1021 1022 1023 1024 1025 1026 1027 1028 1029 1030 1031 1032 1033 1034 1035 1036 1037 1038 1039 1040 1041 1042 1043 1044 1045 1046 1047 1048 1049 1050 1051 1052 1053 1054 1055 1056 1057 1058 1059 1060 1061 1062 1063 1064 1065 1066 1067 1068 1069 1070 1071 1072 1073 1074 1075 1076 1077 1078 1079 1080 1081 \n",
      "hittade ingen pdf: https://regeringen.se/regeringsuppdrag/2011/08/u20114665uc/\n",
      "1083 1084 1085 1086 1087 1088 1089 1090 1091 1092 1093 1094 1095 1096 1097 1098 1099 1100 1101 1102 1103 1104 1105 1106 1107 1108 1109 1110 1111 1112 1113 1114 1115 1116 1117 1118 1119 1120 1121 1122 1123 1124 1125 1126 1127 1128 1129 1130 1131 1132 1133 1134 1135 1136 1137 1138 1139 1140 1141 1142 1143 1144 1145 1146 1147 \n",
      "Fel: https://regeringen.se/regeringsuppdrag/2010/02/s2010886sf1/ <class 'FileNotFoundError'>\n",
      "1148 \n",
      "Fel: https://regeringen.se/regeringsuppdrag/2010/02/s2010886sf/ <class 'FileNotFoundError'>\n",
      "1149 1150 1151 1152 1153 1154 1155 1156 1157 1158 1159 1160 1161 1162 1163 1164 1165 1166 1167 1168 1169 1170 1171 1172 1173 1174 1175 1176 1177 1178 1179 1180 1181 1182 1183 1184 1185 1186 1187 1188 1189 1190 1191 1192 1193 1194 1195 1196 1197 1198 1199 1200 1201 1202 1203 1204 1205 1206 1207 1208 1209 1210 1211 1212 1213 1214 1215 1216 1217 1218 1219 1220 1221 1222 1223 1224 1225 1226 1227 1228 1229 1230 1231 1232 1233 1234 1235 1236 1237 1238 1239 1240 1241 1242 1243 1244 1245 1246 1247 1248 1249 1250 1251 1252 1253 1254 1255 1256 1257 1258 1259 1260 1261 1262 1263 1264 1265 1266 1267 1268 1269 1270 1271 1272 1273 1274 1275 1276 1277 1278 1279 1280 1281 1282 1283 1284 1285 1286 1287 1288 1289 1290 1291 1292 1293 1294 1295 1296 1297 1298 1299 1300 1301 1302 1303 1304 1305 1306 1307 1308 1309 1310 1311 1312 1313 1314 1315 1316 1317 1318 1319 1320 1321 1322 1323 1324 1325 1326 1327 1328 1329 1330 1331 1332 1333 1334 1335 1336 1337 1338 1339 1340 1341 1342 1343 1344 1345 1346 1347 1348 1349 1350 1351 1352 1353 1354 1355 1356 1357 1358 1359 1360 1361 1362 1363 1364 1365 1366 1367 1368 1369 1370 1371 1372 1373 1374 1375 1376 1377 1378 1379 1380 1381 1382 1383 1384 1385 1386 1387 1388 1389 1390 1391 1392 1393 1394 1395 1396 1397 1398 1399 1400 1401 1402 1403 1404 1405 1406 1407 1408 1409 1410 1411 1412 1413 1414 1415 1416 1417 1418 1419 1420 1421 1422 1423 1424 1425 1426 1427 1428 1429 \n",
      "Fel: https://regeringen.se/regeringsuppdrag/2013/01/s20128769fs/ <class 'FileNotFoundError'>\n",
      "1430 1431 1432 1433 1434 1435 1436 1437 1438 1439 1440 1441 1442 1443 1444 1445 1446 1447 1448 1449 1450 1451 1452 1453 1454 1455 1456 1457 1458 1459 1460 1461 1462 1463 1464 1465 1466 1467 1468 1469 1470 1471 1472 1473 1474 1475 1476 1477 1478 1479 1480 1481 1482 1483 1484 1485 1486 1487 1488 1489 1490 1491 1492 1493 1494 1495 1496 1497 1498 1499 1500 Sida 4\n",
      "Laddar ned pdf 1501 1502 1503 1504 1505 1506 1507 1508 1509 1510 1511 1512 1513 1514 1515 1516 1517 1518 1519 1520 1521 1522 1523 1524 1525 1526 1527 1528 1529 1530 1531 1532 1533 1534 1535 1536 1537 1538 1539 1540 1541 1542 1543 1544 1545 1546 1547 1548 1549 1550 1551 1552 1553 1554 1555 1556 1557 1558 1559 1560 1561 1562 1563 1564 1565 1566 1567 1568 1569 1570 1571 1572 1573 1574 1575 1576 1577 1578 1579 1580 1581 1582 1583 1584 1585 1586 1587 1588 1589 1590 1591 1592 1593 1594 1595 1596 1597 1598 1599 1600 1601 1602 \n",
      "Fel: https://regeringen.se/regeringsuppdrag/2014/12/s20148440fst-/ <class 'FileNotFoundError'>\n",
      "1603 1604 1605 1606 1607 1608 1609 1610 1611 1612 1613 1614 1615 1616 1617 1618 1619 1620 1621 1622 1623 1624 1625 1626 1627 1628 1629 1630 1631 1632 1633 \n",
      "hittade ingen pdf: https://regeringen.se/regeringsuppdrag/2013/01/s2013613pbb/\n",
      "1635 1636 1637 1638 1639 1640 1641 1642 1643 1644 1645 1646 1647 1648 1649 1650 1651 1652 1653 1654 1655 1656 1657 1658 1659 1660 1661 \n",
      "Fel: https://regeringen.se/regeringsuppdrag/2014/11/s20147854pbb-/ <class 'FileNotFoundError'>\n",
      "1662 1663 1664 1665 1666 1667 1668 1669 1670 1671 1672 1673 1674 1675 1676 1677 1678 1679 1680 1681 1682 1683 1684 1685 1686 1687 1688 1689 1690 1691 1692 1693 1694 1695 1696 1697 1698 1699 1700 1701 1702 1703 1704 1705 1706 1707 1708 1709 1710 1711 1712 1713 \n",
      "Fel: https://regeringen.se/regeringsuppdrag/2013/05/n20132493rt/ <class 'FileNotFoundError'>\n",
      "1714 1715 1716 1717 1718 1719 1720 1721 1722 1723 1724 1725 \n",
      "Fel: https://regeringen.se/regeringsuppdrag/2013/08/n20133639itp/ <class 'FileNotFoundError'>\n",
      "1726 1727 1728 1729 1730 1731 1732 1733 1734 \n",
      "hittade ingen pdf: https://regeringen.se/regeringsuppdrag/2014/02/n2014636itp/\n",
      "1736 1737 1738 1739 1740 1741 1742 1743 1744 1745 1746 1747 1748 1749 1750 1751 1752 1753 1754 1755 1756 1757 1758 1759 1760 1761 1762 1763 1764 1765 1766 1767 1768 1769 1770 1771 1772 1773 1774 1775 1776 1777 1778 1779 1780 1781 1782 1783 1784 1785 1786 1787 1788 1789 1790 1791 1792 1793 1794 1795 1796 1797 1798 1799 1800 1801 1802 1803 1804 1805 1806 1807 1808 \n",
      "Fel: https://regeringen.se/regeringsuppdrag/2012/04/uppdrag-till-kemikalieinspektionen-att-ta-fram-forslag-till-forbud-mot-bisfenol-a-i-termopapper-vid-viss-anvandning-samt-att-kartlagga-anvandningen-av-bisfenol-a-i-leksaker-och-barnartiklar/ <class 'urllib.error.HTTPError'>\n",
      "1810 1811 1812 1813 1814 1815 1816 1817 1818 1819 1820 1821 1822 1823 1824 1825 1826 1827 1828 1829 1830 1831 1832 1833 1834 1835 1836 1837 1838 1839 1840 1841 1842 1843 1844 1845 1846 1847 1848 1849 1850 1851 1852 1853 1854 1855 1856 1857 1858 1859 1860 1861 1862 1863 1864 1865 1866 1867 1868 1869 1870 1871 1872 1873 1874 1875 1876 1877 1878 1879 1880 1881 1882 1883 1884 1885 1886 1887 1888 1889 1890 1891 1892 1893 1894 1895 1896 1897 1898 1899 1900 1901 1902 1903 1904 1905 1906 1907 1908 1909 1910 1911 1912 1913 1914 1915 1916 \n",
      "Fel: https://regeringen.se/regeringsuppdrag/2014/05/ku2014995ko/ <class 'FileNotFoundError'>\n",
      "1917 1918 1919 1920 1921 1922 1923 1924 1925 1926 1927 1928 1929 1930 1931 1932 1933 1934 1935 1936 1937 1938 1939 1940 1941 1942 1943 \n",
      "Fel: https://regeringen.se/regeringsuppdrag/2009/11/ju20088737a/ <class 'FileNotFoundError'>\n",
      "1944 1945 1946 1947 1948 1949 1950 1951 1952 1953 1954 1955 1956 1957 1958 1959 1960 \n",
      "Fel: https://regeringen.se/regeringsuppdrag/2012/12/uppdrag-till-rikspolisstyrelsen-att-utveckla-polisens-grundutbildning-och-att-redovisa-behovet-av-att-personer-med-en-annan-utbildning-an-polisutbildning-ska-fa-utfora-polisiar-arbetsuppgift/ <class 'urllib.error.HTTPError'>\n",
      "1962 1963 1964 1965 1966 1967 1968 1969 1970 1971 1972 1973 1974 1975 1976 1977 1978 1979 1980 1981 1982 1983 1984 1985 1986 1987 1988 1989 1990 1991 1992 1993 1994 1995 1996 1997 1998 1999 2000 Sida 5\n",
      "Laddar ned pdf 2001 2002 2003 2004 2005 2006 2007 2008 2009 2010 2011 2012 2013 2014 2015 2016 2017 2018 2019 2020 2021 2022 2023 2024 2025 2026 2027 2028 2029 2030 2031 2032 2033 2034 2035 2036 2037 2038 2039 2040 2041 2042 2043 2044 2045 2046 2047 2048 2049 2050 2051 2052 2053 2054 2055 2056 2057 2058 2059 2060 2061 2062 2063 2064 2065 2066 2067 2068 2069 2070 2071 2072 2073 2074 2075 2076 2077 2078 2079 2080 2081 2082 2083 2084 2085 2086 2087 2088 2089 2090 2091 2092 2093 2094 2095 2096 2097 2098 2099 2100 2101 2102 2103 2104 2105 2106 2107 2108 2109 2110 2111 2112 2113 2114 2115 2116 2117 2118 2119 2120 2121 2122 2123 2124 2125 2126 2127 2128 2129 2130 2131 2132 2133 2134 2135 2136 2137 2138 2139 2140 2141 2142 2143 2144 2145 2146 2147 2148 2149 2150 2151 2152 2153 2154 2155 2156 2157 2158 2159 2160 2161 2162 2163 2164 2165 2166 2167 2168 2169 2170 2171 2172 2173 2174 2175 2176 2177 2178 2179 2180 2181 2182 2183 2184 2185 2186 2187 2188 2189 2190 2191 2192 2193 \n",
      "\n",
      "Klart 21:16:08.231806\n",
      "2193 pdf:er nedladdat, 15 fel\n"
     ]
    }
   ],
   "source": [
    "import csv\n",
    "import datetime\n",
    "import time\n",
    "import sys\n",
    "import math\n",
    "i = 0\n",
    "errors = 0\n",
    "\n",
    "print(\"Start \" + str(datetime.datetime.now().time()))\n",
    "        \n",
    "# 2190 regeringsuppdrag / 500 per sida = 5 sidor,\n",
    "# vi behöver med andra ord köra for-loopen 5 gånger\n",
    "for page in range(1, math.ceil(int(j[\"TotalCount\"]) / 500) + 1): \n",
    "    print(\"Sida {0}\".format(page))\n",
    "    # skrapa 500 resultat åt gången och ta ut alla (förhoppningsvis) 500 länkar\n",
    "    data = scrapewebpage(\"https://www.regeringen.se/Filter/GetFilteredItems?filterType=Taxonomy&filterByType=FilterablePageBase&preFilteredCategories=1342&rootPageReference=0&page=\" + str(page) + \"&pageSize=500&displayLimited=false&sortAlphabetically=False\")\n",
    "    j = json.loads(data)    \n",
    "    soup = BeautifulSoup(j[\"Message\"], \"lxml-xml\")\n",
    "    links = soup.find_all(\"a\", \"readmore\")\n",
    "    \n",
    "    # skrapa länk för länk med regeringsuppdrag\n",
    "    print(\"Laddar ned pdf\", end=\" \")\n",
    "    for a in links:\n",
    "        if a != None:\n",
    "            url = a.get(\"href\")\n",
    "            try:\n",
    "                # ta ut varje sida med regeringsuppdrag & ladda ned pdf\n",
    "                i += 1\n",
    "                html = scrapewebpage(\"https://regeringen.se\" + url)\n",
    "                pdf_soup = BeautifulSoup(html, \"lxml-xml\")\n",
    "                pdf_url = get_pdf(pdf_soup)\n",
    "                write_metadata(get_metadata(url, pdf_soup))\n",
    "                if pdf_url != \"\":\n",
    "                    #print(\"Laddar ned https://regeringen.se\" + pdf_url)\n",
    "                    print(i, end=\" \")\n",
    "                    download_pdf(pdf_url)\n",
    "                    time.sleep(2.0) # Fördröjning för att vara snäll mot regeringen (maskinerna kommer ta över världen ändå en vacker dag)\n",
    "                else:\n",
    "                    print()\n",
    "                    print(\"hittade ingen pdf: https://regeringen.se\" + url)\n",
    "            except KeyboardInterrupt:\n",
    "                con.close()\n",
    "                sys.exit()\n",
    "            except:\n",
    "                errors += 1\n",
    "                print()\n",
    "                print(\"Fel: https://regeringen.se\" + url + \" \" + str(sys.exc_info()[0]))\n",
    "                  \n",
    "con.close()\n",
    "print()\n",
    "print()\n",
    "print(\"Klart \" + str(datetime.datetime.now().time()))\n",
    "print(\"{0} pdf:er nedladdat, {1} fel\".format(i, errors))"
   ]
  },
  {
   "cell_type": "markdown",
   "metadata": {},
   "source": [
    "# Städa upp databasen\n",
    "\n",
    "Av någon anledning sparas inte hela URL:en i databasen, och publiceringsdatumet är i olika format. Fixa dessa saker här."
   ]
  },
  {
   "cell_type": "code",
   "execution_count": 3,
   "metadata": {},
   "outputs": [
    {
     "name": "stdout",
     "output_type": "stream",
     "text": [
      "        1 file(s) copied.\n"
     ]
    }
   ],
   "source": [
    "# först, skapa kopia av databasen ifall något går snett\n",
    "!copy regeringsuppdrag.db regeringsuppdrag_original.db"
   ]
  },
  {
   "cell_type": "code",
   "execution_count": 98,
   "metadata": {},
   "outputs": [],
   "source": [
    "import sqlite3 as lite\n",
    "con = lite.connect(\"regeringsuppdrag.db\")\n",
    "cur = con.cursor()\n",
    "\n",
    "# lägg på domän på url som av någon anledning inte kom med tidigare\n",
    "cur.execute(\"UPDATE regeringsuppdrag SET url = 'https://regeringen.se' || url;\")\n",
    "\n",
    "# skapa nytt fält för datum\n",
    "cur.execute(\"ALTER TABLE regeringsuppdrag ADD pub_date TEXT;\")\n",
    "\n",
    "# skapa nytt fält för år\n",
    "cur.execute(\"ALTER TABLE regeringsuppdrag ADD pub_year TEXT;\")\n",
    "\n",
    "con.commit()\n",
    "con.close()"
   ]
  },
  {
   "cell_type": "code",
   "execution_count": 28,
   "metadata": {
    "scrolled": true
   },
   "outputs": [
    {
     "name": "stdout",
     "output_type": "stream",
     "text": [
      "Collecting dateparser\n",
      "  Downloading https://files.pythonhosted.org/packages/ac/9e/1aa87c0c59f9731820bfd20a8b148d97b315530c2c92d1fb300328c8c42f/dateparser-0.7.0-py2.py3-none-any.whl (357kB)\n",
      "Requirement already satisfied: pytz in c:\\users\\peter\\anaconda3\\lib\\site-packages (from dateparser) (2018.4)\n",
      "Collecting regex (from dateparser)\n",
      "  Downloading https://files.pythonhosted.org/packages/97/62/65ac3f4106294ab725fa5bd9e84fd1192d0793b932137cb601aed8385030/regex-2018.06.09-cp36-none-win_amd64.whl (254kB)\n",
      "Collecting tzlocal (from dateparser)\n",
      "  Downloading https://files.pythonhosted.org/packages/cb/89/e3687d3ed99bc882793f82634e9824e62499fdfdc4b1ae39e211c5b05017/tzlocal-1.5.1.tar.gz\n",
      "Requirement already satisfied: python-dateutil in c:\\users\\peter\\anaconda3\\lib\\site-packages (from dateparser) (2.7.3)\n",
      "Requirement already satisfied: six>=1.5 in c:\\users\\peter\\anaconda3\\lib\\site-packages (from python-dateutil->dateparser) (1.11.0)\n",
      "Building wheels for collected packages: tzlocal\n",
      "  Running setup.py bdist_wheel for tzlocal: started\n",
      "  Running setup.py bdist_wheel for tzlocal: finished with status 'done'\n",
      "  Stored in directory: C:\\Users\\Peter\\AppData\\Local\\pip\\Cache\\wheels\\15\\ae\\df\\a67bf1ed84e9bf230187d36d8dcfd30072bea0236cb059ed91\n",
      "Successfully built tzlocal\n",
      "Installing collected packages: regex, tzlocal, dateparser\n",
      "Successfully installed dateparser-0.7.0 regex-2018.6.9 tzlocal-1.5.1\n"
     ]
    },
    {
     "name": "stderr",
     "output_type": "stream",
     "text": [
      "mysql-connector-python 8.0.11 requires protobuf>=3.0.0, which is not installed.\n",
      "distributed 1.21.8 requires msgpack, which is not installed.\n"
     ]
    }
   ],
   "source": [
    "# behövs för att parsa datum på olika språk (däribland svenska)\n",
    "!pip install dateparser"
   ]
  },
  {
   "cell_type": "code",
   "execution_count": 100,
   "metadata": {
    "scrolled": false
   },
   "outputs": [
    {
     "name": "stdout",
     "output_type": "stream",
     "text": [
      "15 juni 2018 --> 2018-06-15\n",
      "15 juni 2018 --> 2018-06-15\n",
      "13 juni 2018 --> 2018-06-13\n",
      "11 juni 2018 --> 2018-06-11\n",
      "11 juni 2018 --> 2018-06-11\n",
      "07 juni 2018 --> 2018-06-07\n",
      "07 juni 2018 --> 2018-06-07\n",
      "07 juni 2018 --> 2018-06-07\n",
      "05 juni 2018 --> 2018-06-05\n",
      "05 juni 2018 --> 2018-06-05\n"
     ]
    }
   ],
   "source": [
    "# kolla först att det fungerar att använda dateparser\n",
    "import datetime\n",
    "import dateparser\n",
    "\n",
    "# parsa datum\n",
    "con = lite.connect(\"regeringsuppdrag.db\")\n",
    "cur = con.cursor()\n",
    "cur.execute(\"SELECT pub FROM regeringsuppdrag LIMIT 10;\")\n",
    "pub = cur.fetchall()\n",
    "con.close()\n",
    "for row in pub:\n",
    "    dt = dateparser.parse(row[0], languages=[\"sv\"])\n",
    "    print(row[0] + \" --> \" + str(dt.date()))"
   ]
  },
  {
   "cell_type": "code",
   "execution_count": 107,
   "metadata": {
    "scrolled": true
   },
   "outputs": [],
   "source": [
    "# dateparser fungerade bra, då kan vi skapa ett nytt datumfält för hela tabellen\n",
    "con = lite.connect(\"regeringsuppdrag.db\")\n",
    "cur = con.cursor()\n",
    "cur.execute(\"SELECT id, pub FROM regeringsuppdrag;\")\n",
    "pub = cur.fetchall()\n",
    "for row in pub:\n",
    "    dt = dateparser.parse(row[1], languages=[\"sv\"])\n",
    "    cur2 = con.cursor()\n",
    "    cur2.execute(\"UPDATE regeringsuppdrag SET pub_date=?, pub_year=? WHERE id=?\", (dt.date(), dt.year, row[0]))\n",
    "\n",
    "con.commit()\n",
    "con.close()"
   ]
  }
 ],
 "metadata": {
  "kernelspec": {
   "display_name": "Python 3",
   "language": "python",
   "name": "python3"
  },
  "language_info": {
   "codemirror_mode": {
    "name": "ipython",
    "version": 3
   },
   "file_extension": ".py",
   "mimetype": "text/x-python",
   "name": "python",
   "nbconvert_exporter": "python",
   "pygments_lexer": "ipython3",
   "version": "3.6.5"
  }
 },
 "nbformat": 4,
 "nbformat_minor": 2
}
